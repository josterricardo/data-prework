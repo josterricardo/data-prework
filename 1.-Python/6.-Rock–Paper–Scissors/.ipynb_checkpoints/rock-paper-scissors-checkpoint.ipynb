{
 "cells": [
  {
   "cell_type": "markdown",
   "metadata": {},
   "source": [
    "<img src=\"https://bit.ly/2VnXWr2\" width=\"100\" align=\"left\">"
   ]
  },
  {
   "cell_type": "markdown",
   "metadata": {},
   "source": [
    "# Rock, Paper & Scissors\n",
    "\n",
    "Let's play the famous game against our computer. You can check the rules [here](https://en.wikipedia.org/wiki/Rock%E2%80%93paper%E2%80%93scissors). \n",
    "\n",
    "## Task\n",
    "Create a program that imitates the playability of the well known game of rock, paper, scissors. Follow the guidelines provided.\n",
    "\n",
    "## Tools\n",
    "1. Loop: **for/while**\n",
    "2. Functions: **input(), print()...**\n",
    "3. Conditional statements: **if, elif, else**\n",
    "4. Definition of functions. Modular programming\n",
    "5. Import modules\n",
    "\n",
    "**To solve this challenge, the use of functions is recommended.**\n",
    "\n",
    "#### 1. Import the choice function of the random module."
   ]
  },
  {
   "cell_type": "code",
   "execution_count": 1,
   "metadata": {},
   "outputs": [],
   "source": [
    "import random"
   ]
  },
  {
   "cell_type": "markdown",
   "metadata": {},
   "source": [
    "#### 2. Create a list that includes the 3 possible gesture options of the game: 'rock', 'paper' or 'scissors'. Store the list in a variable called `gestures`."
   ]
  },
  {
   "cell_type": "code",
   "execution_count": 2,
   "metadata": {},
   "outputs": [],
   "source": [
    "gestures = ['rock', 'paper', 'scissors']"
   ]
  },
  {
   "cell_type": "markdown",
   "metadata": {},
   "source": [
    "#### 3. Create a variable called `n_rounds` to store the maximum number of rounds to play in a game. \n",
    "Remember that the number of rounds must be odd: 1, 3, 5, ..."
   ]
  },
  {
   "cell_type": "code",
   "execution_count": 3,
   "metadata": {},
   "outputs": [],
   "source": [
    "n_rounds = 0"
   ]
  },
  {
   "cell_type": "markdown",
   "metadata": {},
   "source": [
    "#### 4. Create a variable called `rounds_to_win` to store the number of rounds that a player must win to win the game.\n",
    "**Hint**: the value stored in `rounds_to_win` depends on the value of `n_rounds`. "
   ]
  },
  {
   "cell_type": "code",
   "execution_count": 4,
   "metadata": {},
   "outputs": [],
   "source": [
    "rounds_to_win = 0"
   ]
  },
  {
   "cell_type": "markdown",
   "metadata": {},
   "source": [
    "#### 5. Create two variables to store the number of rounds that the computer and the player have won. Call these variables `cpu_score` and `player_score`."
   ]
  },
  {
   "cell_type": "code",
   "execution_count": 5,
   "metadata": {},
   "outputs": [],
   "source": [
    "cpu_score = 0\n",
    "player_score = 0"
   ]
  },
  {
   "cell_type": "markdown",
   "metadata": {},
   "source": [
    "#### 6. Define a function that randomly returns one of the 3 gesture options.\n",
    "You will use this function to simulate the gesture choice of the computer. "
   ]
  },
  {
   "cell_type": "code",
   "execution_count": 6,
   "metadata": {},
   "outputs": [
    {
     "name": "stdout",
     "output_type": "stream",
     "text": [
      "rock\n"
     ]
    }
   ],
   "source": [
    "def return_gesture():\n",
    "    palabras = ['rock','paper', 'scissors']\n",
    "    print(random.choice(palabras))\n",
    "\n",
    "return_gesture()"
   ]
  },
  {
   "cell_type": "markdown",
   "metadata": {},
   "source": [
    "#### 7. Define a function that asks the player which is the gesture he or she wants to show: 'rock', 'paper' or 'scissors'.\n",
    "The player should only be allowed to choose one of the 3 gesture options. If the player's choice is not rock, paper or scissors, keep asking until it is."
   ]
  },
  {
   "cell_type": "code",
   "execution_count": 9,
   "metadata": {},
   "outputs": [
    {
     "name": "stdout",
     "output_type": "stream",
     "text": [
      "Que gesto quiere mostrar ('rock', 'paper' or 'scissors'): paper\n",
      "Gesto en la lista\n"
     ]
    }
   ],
   "source": [
    "def return_gesture_word(palabra):\n",
    "    palabras = ['rock','paper', 'scissors']\n",
    "    if palabra in palabras:\n",
    "        print(\"Gesto en la lista\")\n",
    "    else:\n",
    "        palabra = input('No existe este gesto. Ingrese otro gesto: ')\n",
    "        return_gesture_word(palabra)\n",
    "    \n",
    "\n",
    "\n",
    "palabra = input(\"Que gesto quiere mostrar ('rock', 'paper' or 'scissors'): \")\n",
    "return_gesture_word(palabra)"
   ]
  },
  {
   "cell_type": "markdown",
   "metadata": {},
   "source": [
    "#### 8. Define a function that checks who won a round. \n",
    "The function should return 0 if there is a tie, 1 if the computer wins and 2 if the player wins."
   ]
  },
  {
   "cell_type": "code",
   "execution_count": null,
   "metadata": {},
   "outputs": [],
   "source": [
    "score = 0\n",
    "def return_gesture(palabra):\n",
    "    palabras = ['rock','paper', 'scissors']\n",
    "    palabra_cpu = random.choice(palabras)\n",
    "    if palabra in palabras:\n",
    "        if palabra_cpu == palabra:\n",
    "            score = 0\n",
    "        else:\n",
    "            # Rock\n",
    "            if palabra_cpu == 'rock' and palabra == 'paper':\n",
    "                score = 2\n",
    "            else:\n",
    "                if palabra_cpu == 'rock' and palabra == 'scissors':\n",
    "                    score = 1\n",
    "            \n",
    "            # Paper\n",
    "            if palabra_cpu == 'paper' and palabra == 'scissors':\n",
    "                score = 2\n",
    "            else:\n",
    "                if palabra_cpu == 'paper' and palabra == 'rock':\n",
    "                    score = 1\n",
    "            \n",
    "            # Scissors\n",
    "            if palabra_cpu == 'scissors' and palabra == 'rock':\n",
    "                score = 2\n",
    "            else:\n",
    "                if palabra_cpu == 'scissors' and palabra == 'paper':\n",
    "                    score = 1\n",
    "        print(palabra_cpu, 'vs', palabra)\n",
    "        print(\"Score:\", score)\n",
    "\n",
    "    else:\n",
    "        palabra = input('No existe este gesto. Ingrese otro gesto: ')\n",
    "        return_gesture(palabra)\n",
    "    \n",
    "\n",
    "\n",
    "palabra = input(\"Que gesto quiere mostrar ('rock', 'paper' o 'scissors'): \")\n",
    "return_gesture(palabra)"
   ]
  },
  {
   "cell_type": "markdown",
   "metadata": {},
   "source": [
    "#### 9. Define a function that prints the choice of the computer, the choice of the player and a message that announces who won the current round. \n",
    "You should also use this function to update the variables that count the number of rounds that the computer and the player have won. The score of the winner increases by one point. If there is a tie, the score does not increase."
   ]
  },
  {
   "cell_type": "code",
   "execution_count": 1,
   "metadata": {},
   "outputs": [],
   "source": [
    "import random\n",
    "\n",
    "score_p = 0\n",
    "score_c = 0\n",
    "play = 0\n",
    "def return_gesture(palabra):\n",
    "    global play, score_p, score_c\n",
    "    palabras = ['rock','paper', 'scissors']\n",
    "    palabra_cpu = random.choice(palabras)\n",
    "\n",
    "    if palabra == 'exit':\n",
    "        exit()\n",
    "\n",
    "    if palabra in palabras:\n",
    "        play = play + 1\n",
    "        if palabra_cpu == palabra:\n",
    "            score_p = score_p\n",
    "            score_c = score_c\n",
    "        else:\n",
    "            # Rock\n",
    "            if palabra_cpu == 'rock' and palabra == 'paper':\n",
    "                score_p = score_p + 1\n",
    "            else:\n",
    "                if palabra_cpu == 'rock' and palabra == 'scissors':\n",
    "                    score_c = score_c + 1\n",
    "            \n",
    "            # Paper\n",
    "            if palabra_cpu == 'paper' and palabra == 'scissors':\n",
    "                score_p = score_p + 1\n",
    "            else:\n",
    "                if palabra_cpu == 'paper' and palabra == 'rock':\n",
    "                    score_c = score_c + 1\n",
    "            \n",
    "            # Scissors\n",
    "            if palabra_cpu == 'scissors' and palabra == 'rock':\n",
    "                score_p = score_p + 1\n",
    "            else:\n",
    "                if palabra_cpu == 'scissors' and palabra == 'paper':\n",
    "                    score_c = score_c + 1\n",
    "        print('Juego:' ,play,  '-', palabra_cpu, 'vs', palabra)\n",
    "        print(\"Score player:\", score_p)\n",
    "        print(\"Score computer:\", score_c)\n",
    "        palabra = input(\"Que gesto quiere mostrar ('rock', 'paper' o 'scissors') o 'exit' para salir: \")\n",
    "        return_gesture(palabra)\n",
    "\n",
    "    else:\n",
    "        palabra = input('No existe este gesto. Ingrese otro gesto: ')\n",
    "        return_gesture(palabra)\n",
    "    \n",
    "\n",
    "\n",
    "#palabra = input(\"Que gesto quiere mostrar ('rock', 'paper' o 'scissors'): \")\n",
    "#return_gesture(palabra)\n",
    "\n"
   ]
  },
  {
   "cell_type": "markdown",
   "metadata": {},
   "source": [
    "#### 10. Now it's time to code the execution of the game using the functions and variables you defined above. \n",
    "\n",
    "First, create a loop structure that repeats while no player reaches the minimum score necessary to win and the number of rounds is less than the maximum number of rounds to play in a game.  \n",
    "\n",
    "Inside the loop, use the functions and variables above to create the execution of a round: ask for the player's choice, generate the random choice of the computer, show the round results, update the scores, etc. "
   ]
  },
  {
   "cell_type": "code",
   "execution_count": 2,
   "metadata": {},
   "outputs": [
    {
     "name": "stdout",
     "output_type": "stream",
     "text": [
      "::.::Bienvenido tiene un total de 5 oportunidades::.::\n",
      "::-::Gana el competidor que consiga 3 puntos::-::\n",
      "Que gesto quiere mostrar ('rock', 'paper' o 'scissors'): paper\n",
      "Juego: 1 - paper vs paper\n",
      "Score player: 0\n",
      "Score computer: 0\n",
      "Que gesto quiere mostrar ('rock', 'paper' o 'scissors') o 'exit' para salir: paper\n",
      "Juego: 2 - paper vs paper\n",
      "Score player: 0\n",
      "Score computer: 0\n",
      "Que gesto quiere mostrar ('rock', 'paper' o 'scissors') o 'exit' para salir: paper\n",
      "Juego: 3 - rock vs paper\n",
      "Score player: 1\n",
      "Score computer: 0\n",
      "Que gesto quiere mostrar ('rock', 'paper' o 'scissors') o 'exit' para salir: paper\n",
      "Juego: 4 - paper vs paper\n",
      "Score player: 1\n",
      "Score computer: 0\n",
      "Que gesto quiere mostrar ('rock', 'paper' o 'scissors') o 'exit' para salir: paper\n",
      "Juego: 5 - rock vs paper\n",
      "Score player: 2\n",
      "Score computer: 0\n",
      "Que gesto quiere mostrar ('rock', 'paper' o 'scissors') o 'exit' para salir: paper\n",
      "Se terminaron los turnos\n",
      "Juego: 5 - rock vs paper\n",
      "Score player: 2\n",
      "Score computer: 0\n"
     ]
    }
   ],
   "source": [
    "import random\n",
    "\n",
    "score_p = 0\n",
    "score_c = 0\n",
    "play = 0\n",
    "def return_gesture(palabra):\n",
    "    global play, score_p, score_c\n",
    "    \n",
    "    palabras = ['rock','paper', 'scissors']\n",
    "    palabra_cpu = random.choice(palabras)\n",
    "    if play == 5:\n",
    "        print('Se terminaron los turnos')\n",
    "        print('Juego:' ,play,  '-', palabra_cpu, 'vs', palabra)\n",
    "        print(\"Score player:\", score_p)\n",
    "        print(\"Score computer:\", score_c)\n",
    "        \n",
    "    if palabra == 'exit':\n",
    "        exit()\n",
    "\n",
    "    if palabra in palabras:\n",
    "        play = play + 1\n",
    "        while play <= 5:\n",
    "            if palabra_cpu == palabra:\n",
    "                score_p = score_p\n",
    "                score_c = score_c\n",
    "            else:\n",
    "                # Rock\n",
    "                if palabra_cpu == 'rock' and palabra == 'paper':\n",
    "                    score_p = score_p + 1\n",
    "                else:\n",
    "                    if palabra_cpu == 'rock' and palabra == 'scissors':\n",
    "                        score_c = score_c + 1\n",
    "                \n",
    "                # Paper\n",
    "                if palabra_cpu == 'paper' and palabra == 'scissors':\n",
    "                    score_p = score_p + 1\n",
    "                else:\n",
    "                    if palabra_cpu == 'paper' and palabra == 'rock':\n",
    "                        score_c = score_c + 1\n",
    "                \n",
    "                # Scissors\n",
    "                if palabra_cpu == 'scissors' and palabra == 'rock':\n",
    "                    score_p = score_p + 1\n",
    "                else:\n",
    "                    if palabra_cpu == 'scissors' and palabra == 'paper':\n",
    "                        score_c = score_c + 1\n",
    "            print('Juego:' ,play,  '-', palabra_cpu, 'vs', palabra)\n",
    "            print(\"Score player:\", score_p)\n",
    "            print(\"Score computer:\", score_c)\n",
    "            palabra = input(\"Que gesto quiere mostrar ('rock', 'paper' o 'scissors') o 'exit' para salir: \")\n",
    "            return_gesture(palabra)\n",
    "\n",
    "            if score_p == 3 or score_c == 3:\n",
    "                print('Se termino el juego, se llego al puntaje maximo')\n",
    "                break\n",
    "        \n",
    "    \n",
    "\n",
    "    else:\n",
    "        palabra = input('No existe este gesto. Ingrese otro gesto: ')\n",
    "        return_gesture(palabra)\n",
    "    \n",
    "\n",
    "print('::.::Bienvenido tiene un total de 5 oportunidades::.::')\n",
    "print('::-::Gana el competidor que consiga 3 puntos::-::')\n",
    "palabra = input(\"Que gesto quiere mostrar ('rock', 'paper' o 'scissors'): \")\n",
    "return_gesture(palabra)\n",
    "\n"
   ]
  },
  {
   "cell_type": "markdown",
   "metadata": {},
   "source": [
    "#### 11. Print the winner of the game based on who won more rounds.\n",
    "Remember that the game might be tied. "
   ]
  },
  {
   "cell_type": "code",
   "execution_count": 3,
   "metadata": {},
   "outputs": [
    {
     "name": "stdout",
     "output_type": "stream",
     "text": [
      "Gano el humano\n"
     ]
    }
   ],
   "source": [
    "if score_p > score_c:\n",
    "    print('Gano el humano')\n",
    "else:\n",
    "    print('Gamo la maquina')"
   ]
  },
  {
   "cell_type": "markdown",
   "metadata": {},
   "source": [
    "# Bonus: Rock, Paper, Scissors, Lizard & Spock\n",
    "![](images/rpsls.jpg)\n",
    "\n",
    "In this challenge, you need to improve the previous game by adding two new options. To know more about the rules of the improved version of rock, paper, scissors, check this [link](http://www.samkass.com/theories/RPSSL.html). \n",
    "\n",
    "In addition, you will also need to improve how the game interacts with the player: the number of rounds to play, which must be an odd number, will be requested to the user until a valid number is entered. Define a new function to make that request.\n",
    "\n",
    "**Hint**: Try to reuse the code that you already coded in the previous challenge. If your code is efficient, this bonus will only consist of simple modifications to the original game."
   ]
  },
  {
   "cell_type": "code",
   "execution_count": null,
   "metadata": {},
   "outputs": [],
   "source": []
  }
 ],
 "metadata": {
  "kernelspec": {
   "display_name": "Python 3",
   "language": "python",
   "name": "python3"
  },
  "language_info": {
   "codemirror_mode": {
    "name": "ipython",
    "version": 3
   },
   "file_extension": ".py",
   "mimetype": "text/x-python",
   "name": "python",
   "nbconvert_exporter": "python",
   "pygments_lexer": "ipython3",
   "version": "3.8.8"
  }
 },
 "nbformat": 4,
 "nbformat_minor": 2
}
